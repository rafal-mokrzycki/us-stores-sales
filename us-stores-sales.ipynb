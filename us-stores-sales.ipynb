{
 "cells": [
  {
   "cell_type": "markdown",
   "metadata": {},
   "source": [
    "### Dataset description\n",
    "\n",
    "This dataset contains information about Sales Values in Dollars on American Stores between 2010 and 2011. In particular, this dataset contains:\n",
    "\n",
    "Stores' Area, State, Region and Size;\n",
    "Products' ID, Description, Type, Category and Sale Date;\n",
    "Accounting Info, such as Budget Margin, Profit, Total Expenses and Marking.\n",
    "\n",
    "The data was extracted between January 1th in 2010 and December 31th in 2011."
   ]
  },
  {
   "cell_type": "markdown",
   "metadata": {},
   "source": [
    "### Variables description\n",
    "\n",
    "* Area Code: Store's Code;\n",
    "* State: Store's State;\n",
    "* Market: Store's Region;\n",
    "* Market Size: Store's Size;\n",
    "* Profit: Profits in Dollars `($)`;\n",
    "* Margin: Profit + Total Expenses `($)` OR Sales - COGS `($)`;\n",
    "* Sales: Values Acquired in Sales `($)`;\n",
    "* COGS: Cost of Goods Sold `($)`;\n",
    "* Total Expenses: Total Expenses to get the Product to Sell `($)`;\n",
    "* Marketing: Expenses in Marketing `($)`;\n",
    "* Inventory: Inventory Value of the Product in the Sale Moment `($)`;\n",
    "* Budget Profit: Expected Profit `($)`;\n",
    "* Budget COGS: Expected COGS `($)`;\n",
    "* Budget Margin: Expected Profit + Expected Total Expenses `($)` OR Expected Sales - Expected COGS `($)`;\n",
    "* Budget Sales: Expected Value Acquired in Sales `($)`;\n",
    "* ProductID: Product ID;\n",
    "* Date: Sale Date;\n",
    "* Product Type: Product Category;\n",
    "* Product: Product Description;\n",
    "* Type: Type;"
   ]
  },
  {
   "cell_type": "markdown",
   "metadata": {},
   "source": [
    "### Imports"
   ]
  },
  {
   "cell_type": "code",
   "execution_count": 103,
   "metadata": {},
   "outputs": [],
   "source": [
    "import matplotlib.pyplot as plt\n",
    "import numpy as np\n",
    "import pandas as pd\n",
    "import seaborn as sns\n",
    "from fast_ml.model_development import train_valid_test_split\n",
    "import itertools as it\n",
    "from statsmodels.stats.outliers_influence import variance_inflation_factor\n"
   ]
  },
  {
   "cell_type": "markdown",
   "metadata": {},
   "source": [
    "### Load the data"
   ]
  },
  {
   "cell_type": "code",
   "execution_count": 60,
   "metadata": {},
   "outputs": [],
   "source": [
    "df = pd.read_csv(\"sales.csv\")"
   ]
  }
 ],
 "metadata": {
  "kernelspec": {
   "display_name": "Python 3.10.7 64-bit",
   "language": "python",
   "name": "python3"
  },
  "language_info": {
   "codemirror_mode": {
    "name": "ipython",
    "version": 3
   },
   "file_extension": ".py",
   "mimetype": "text/x-python",
   "name": "python",
   "nbconvert_exporter": "python",
   "pygments_lexer": "ipython3",
   "version": "3.10.7"
  },
  "orig_nbformat": 4,
  "vscode": {
   "interpreter": {
    "hash": "26de051ba29f2982a8de78e945f0abaf191376122a1563185a90213a26c5da77"
   }
  }
 },
 "nbformat": 4,
 "nbformat_minor": 2
}
